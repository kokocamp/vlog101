{
  "nbformat": 4,
  "nbformat_minor": 0,
  "metadata": {
    "colab": {
      "name": "Linear.ipynb",
      "provenance": [],
      "mount_file_id": "1pFHReT7E3t2HaarbsmxZasIbJQH5XCxn",
      "authorship_tag": "ABX9TyMqPG7Oxm3lEUFwq4/G8RnH",
      "include_colab_link": true
    },
    "kernelspec": {
      "name": "python3",
      "display_name": "Python 3"
    }
  },
  "cells": [
    {
      "cell_type": "markdown",
      "metadata": {
        "id": "view-in-github",
        "colab_type": "text"
      },
      "source": [
        "<a href=\"https://colab.research.google.com/github/kokocamp/vlog101/blob/master/Linear.ipynb\" target=\"_parent\"><img src=\"https://colab.research.google.com/assets/colab-badge.svg\" alt=\"Open In Colab\"/></a>"
      ]
    },
    {
      "cell_type": "code",
      "metadata": {
        "id": "sPRAe6i1VmAG",
        "outputId": "2afc371e-56df-4d99-cc44-8244576c88a5",
        "colab": {
          "base_uri": "https://localhost:8080/",
          "height": 1000
        }
      },
      "source": [
        "import matplotlib.pyplot as plt\n",
        "import numpy as np\n",
        "import pandas as pd\n",
        "from sklearn import datasets, linear_model\n",
        "from sklearn.metrics import mean_squared_error, r2_score\n",
        "\n",
        "# Load the diabetes dataset\n",
        "diabetes_X, diabetes_y = datasets.load_diabetes(return_X_y=True)\n",
        "\n",
        "pd.options.display.float_format = '{:,.4f}'.format\n",
        "data = pd.DataFrame(data=diabetes_X)\n",
        "print(data.describe())\n",
        "\n",
        "# Use only one feature\n",
        "diabetes_X = diabetes_X[:, np.newaxis, 2]\n",
        "\n",
        "data = pd.DataFrame(data=diabetes_X)\n",
        "print(data.describe())\n",
        "\n",
        "# Split the data into training/testing sets\n",
        "diabetes_X_train = diabetes_X[:-20]\n",
        "diabetes_X_test = diabetes_X[-20:]\n",
        "\n",
        "data = pd.DataFrame(data=diabetes_X_train)\n",
        "print(data.describe())\n",
        "\n",
        "data = pd.DataFrame(data=diabetes_X_test)\n",
        "print(data.describe())\n",
        "\n",
        "# Split the targets into training/testing sets\n",
        "diabetes_y_train = diabetes_y[:-20]\n",
        "diabetes_y_test = diabetes_y[-20:]\n",
        "\n",
        "# Create linear regression object\n",
        "regr = linear_model.LinearRegression()\n",
        "\n",
        "# Train the model using the training sets\n",
        "regr.fit(diabetes_X_train, diabetes_y_train)\n",
        "\n",
        "# Make predictions using the testing set\n",
        "diabetes_y_pred = regr.predict(diabetes_X_test)\n",
        "\n",
        "# The coefficients\n",
        "print('Coefficients: \\n', regr.coef_)\n",
        "# The mean squared error\n",
        "print('Mean squared error: %.2f'\n",
        "      % mean_squared_error(diabetes_y_test, diabetes_y_pred))\n",
        "# The coefficient of determination: 1 is perfect prediction\n",
        "print('Coefficient of determination: %.2f'\n",
        "      % r2_score(diabetes_y_test, diabetes_y_pred))\n",
        "\n",
        "# Plot outputs\n",
        "plt.scatter(diabetes_X_train, diabetes_y_train,  color='green')\n",
        "#plt.plot(diabetes_X_train, diabetes_y_pred, color='red', linewidth=3)\n",
        "\n",
        "plt.scatter(diabetes_X_test, diabetes_y_test,  color='black')\n",
        "plt.plot(diabetes_X_test, diabetes_y_pred, color='blue', linewidth=3)\n",
        "\n",
        "#plt.xticks(())\n",
        "#plt.yticks(())\n",
        "\n",
        "plt.show()"
      ],
      "execution_count": null,
      "outputs": [
        {
          "output_type": "stream",
          "text": [
            "             0        1        2        3  ...        6        7        8        9\n",
            "count 442.0000 442.0000 442.0000 442.0000  ... 442.0000 442.0000 442.0000 442.0000\n",
            "mean   -0.0000   0.0000  -0.0000   0.0000  ...  -0.0000   0.0000  -0.0000  -0.0000\n",
            "std     0.0476   0.0476   0.0476   0.0476  ...   0.0476   0.0476   0.0476   0.0476\n",
            "min    -0.1072  -0.0446  -0.0903  -0.1124  ...  -0.1023  -0.0764  -0.1261  -0.1378\n",
            "25%    -0.0373  -0.0446  -0.0342  -0.0367  ...  -0.0351  -0.0395  -0.0332  -0.0332\n",
            "50%     0.0054  -0.0446  -0.0073  -0.0057  ...  -0.0066  -0.0026  -0.0019  -0.0011\n",
            "75%     0.0381   0.0507   0.0312   0.0356  ...   0.0293   0.0343   0.0324   0.0279\n",
            "max     0.1107   0.0507   0.1706   0.1320  ...   0.1812   0.1852   0.1336   0.1356\n",
            "\n",
            "[8 rows x 10 columns]\n",
            "             0\n",
            "count 442.0000\n",
            "mean   -0.0000\n",
            "std     0.0476\n",
            "min    -0.0903\n",
            "25%    -0.0342\n",
            "50%    -0.0073\n",
            "75%     0.0312\n",
            "max     0.1706\n",
            "             0\n",
            "count 422.0000\n",
            "mean    0.0005\n",
            "std     0.0476\n",
            "min    -0.0903\n",
            "25%    -0.0340\n",
            "50%    -0.0067\n",
            "75%     0.0323\n",
            "max     0.1706\n",
            "            0\n",
            "count 20.0000\n",
            "mean  -0.0100\n",
            "std    0.0471\n",
            "min   -0.0741\n",
            "25%   -0.0399\n",
            "50%   -0.0197\n",
            "75%    0.0132\n",
            "max    0.0886\n",
            "Coefficients: \n",
            " [938.23786125]\n",
            "Mean squared error: 2548.07\n",
            "Coefficient of determination: 0.47\n"
          ],
          "name": "stdout"
        },
        {
          "output_type": "display_data",
          "data": {
            "image/png": "[encoded data removed]",
            "text/plain": [
              "<Figure size 432x288 with 1 Axes>"
            ]
          },
          "metadata": {
            "tags": [],
            "needs_background": "light"
          }
        }
      ]
    }
  ]
}